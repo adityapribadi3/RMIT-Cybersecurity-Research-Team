{
  "nbformat": 4,
  "nbformat_minor": 0,
  "metadata": {
    "colab": {
      "name": "first_tff.ipynb",
      "provenance": [],
      "collapsed_sections": []
    },
    "kernelspec": {
      "display_name": "Python 3",
      "name": "python3"
    },
    "language_info": {
      "name": "python"
    }
  },
  "cells": [
    {
      "cell_type": "code",
      "metadata": {
        "id": "kIfpzf7ltChD",
        "colab": {
          "base_uri": "https://localhost:8080/"
        },
        "outputId": "6e844db1-0a19-4294-8e5c-8a8744ebb83f"
      },
      "source": [
        "!pip uninstall --yes --quiet  tensorflow-federated-nightly\n",
        "!pip uninstall --yes --quiet  nest-asyncio\n",
        "!pip install  --quiet --upgrade tensorflow-federated-nightly\n",
        "!pip install  --quiet --upgrade nest-asyncio"
      ],
      "execution_count": null,
      "outputs": [
        {
          "output_type": "stream",
          "text": [
            "\u001b[31mERROR: pip's dependency resolver does not currently take into account all the packages that are installed. This behaviour is the source of the following dependency conflicts.\n",
            "nbclient 0.5.4 requires jupyter-client>=6.1.5, but you have jupyter-client 5.3.5 which is incompatible.\u001b[0m\n"
          ],
          "name": "stdout"
        }
      ]
    },
    {
      "cell_type": "code",
      "metadata": {
        "colab": {
          "base_uri": "https://localhost:8080/"
        },
        "id": "cWOpnrwltkY0",
        "outputId": "acb4e677-cce8-4d46-ae15-905f9b62dbbd"
      },
      "source": [
        "import tensorflow_federated as tff\n",
        "import tensorflow as tf\n",
        "import numpy as np\n",
        "import collections\n",
        "import nest_asyncio\n",
        "import platform\n",
        "import time\n",
        "\n",
        "nest_asyncio.apply()\n",
        "(x, y), (x_test, y_test) = tf.keras.datasets.mnist.load_data()\n",
        "\n",
        "# normalization\n",
        "x=tf.image.per_image_standardization(x)\n",
        "x_test=tf.image.per_image_standardization(x_test)\n",
        "\n",
        "# standardization\n",
        "# x, x_test = x / 255.0, x_test / 255.0\n",
        "print(tf.__version__)\n",
        "print(tff.__version__)\n",
        "print(platform.python_version())"
      ],
      "execution_count": null,
      "outputs": [
        {
          "output_type": "stream",
          "text": [
            "2.7.0-dev20210824\n",
            "0.19.0\n",
            "3.7.11\n"
          ],
          "name": "stdout"
        }
      ]
    },
    {
      "cell_type": "code",
      "metadata": {
        "id": "t8MKnNFzhsAK"
      },
      "source": [
        "NUM_CLIENTS = 100\n",
        "total_image_count = len(x)\n",
        "image_per_set = int(np.floor(total_image_count/NUM_CLIENTS))\n",
        "client_train_dataset = collections.OrderedDict()\n",
        "client_test_dataset = collections.OrderedDict()\n",
        "for i in range(1, NUM_CLIENTS+1):\n",
        "    client_name = \"client_\" + str(i)\n",
        "    start = image_per_set * (i-1)\n",
        "    end = image_per_set * i\n",
        "    data = collections.OrderedDict((('label', y[start:end]), ('pixels', x[start:end])))\n",
        "    # test_data = collections.OrderedDict((('label', y_test[start:end]), ('pixels', x_test[start:end])))\n",
        "    client_train_dataset[client_name] = data\n",
        "    # client_test_dataset[client_name]= test_data\n",
        "\n",
        "\n",
        "emnist_train = tff.simulation.datasets.TestClientData(client_train_dataset)\n",
        "# emnist_test=tff.simulation.datasets.TestClientData(client_test_dataset)\n",
        "\n"
      ],
      "execution_count": null,
      "outputs": []
    },
    {
      "cell_type": "code",
      "metadata": {
        "id": "LWw8qW9AuXDv"
      },
      "source": [
        "\n",
        "NUM_ROUNDS = 200\n",
        "NUM_EPOCHS = 5\n",
        "BATCH_SIZE = 16\n",
        "SHUFFLE_BUFFER = 418\n",
        "PREFETCH_BUFFER = 10\n",
        "CLIENTS_PER_ROUND=5\n",
        "server_lr=1.0\n",
        "client_lr=0.01\n",
        "def preprocess(dataset):\n",
        "  def batch_format_fn(element):\n",
        "    return collections.OrderedDict(\n",
        "        x=tf.expand_dims(element['pixels'], -1), y=element['label'])\n",
        "  return dataset.map(batch_format_fn).repeat(NUM_EPOCHS).shuffle(SHUFFLE_BUFFER).batch(\n",
        "      BATCH_SIZE).prefetch(PREFETCH_BUFFER)\n",
        "\n"
      ],
      "execution_count": null,
      "outputs": []
    },
    {
      "cell_type": "code",
      "metadata": {
        "id": "_Jo6NczXuNPd"
      },
      "source": [
        "def create_keras_model():\n",
        "  \n",
        "  model = tf.keras.models.Sequential()\n",
        "  model.add(tf.keras.layers.Conv2D(32, (3, 3), activation='relu', input_shape=(28,28,1)))\n",
        "  model.add(tf.keras.layers.MaxPooling2D((2, 2)))\n",
        "  model.add(tf.keras.layers.Conv2D(64, (3, 3), activation='relu'))\n",
        "  model.add(tf.keras.layers.MaxPooling2D((2, 2)))\n",
        "  model.add(tf.keras.layers.Conv2D(64, (3, 3), activation='relu'))\n",
        "  model.add(tf.keras.layers.Flatten())\n",
        "  model.add(tf.keras.layers.Dense(64, activation='relu'))\n",
        "  model.add(tf.keras.layers.Dense(10))\n",
        "  return model\n",
        "  \n",
        "example_dataset = emnist_train.create_tf_dataset_for_client(\n",
        "    emnist_train.client_ids[0])\n",
        "preprocessed_example_dataset = preprocess(example_dataset)\n",
        "def model_fn():\n",
        "  keras_model = create_keras_model()\n",
        "  return tff.learning.from_keras_model(\n",
        "      keras_model,\n",
        "    input_spec=preprocessed_example_dataset.element_spec ,\n",
        "      loss=tf.keras.losses.SparseCategoricalCrossentropy(from_logits=True),\n",
        "      metrics=[tf.keras.metrics.SparseCategoricalAccuracy()])\n",
        "      \n",
        "iterative_process = tff.learning.build_federated_averaging_process(\n",
        "    model_fn,\n",
        "    client_optimizer_fn=lambda: tf.keras.optimizers.Adam(),\n",
        "    server_optimizer_fn=lambda: tf.keras.optimizers.Adam(),\n",
        "    use_experimental_simulation_loop=True\n",
        "    )\n"
      ],
      "execution_count": null,
      "outputs": []
    },
    {
      "cell_type": "code",
      "metadata": {
        "id": "Kv5lEJv-xn8q",
        "colab": {
          "base_uri": "https://localhost:8080/"
        },
        "outputId": "208d7a95-65d5-4ab9-b98d-fe34bac196f5"
      },
      "source": [
        "state = iterative_process.initialize()\n",
        "start_time = time.time()\n",
        "rounds=[]\n",
        "acc=[]\n",
        "for round_num in range(1, NUM_ROUNDS):\n",
        "  sampled_clients = np.random.choice(\n",
        "    emnist_train.client_ids,\n",
        "    size=CLIENTS_PER_ROUND,\n",
        "    replace=False)\n",
        "  sampled_train_data = [\n",
        "    preprocess(emnist_train.create_tf_dataset_for_client(x))\n",
        "  for x in sampled_clients\n",
        "  ]\n",
        "  state, metrics = iterative_process.next(state, sampled_train_data)\n",
        "  rounds.append(round_num)\n",
        "  acc.append(metrics[\"train\"][\"sparse_categorical_accuracy\"])\n",
        "  print(f'Round {round_num} training loss: {round(metrics[\"train\"][\"loss\"], 5) } sparse_categorical_accuracy: {round(metrics[\"train\"][\"sparse_categorical_accuracy\"],5)}, '\n",
        "  f'time: {round((time.time()-start_time)/(round_num+1.))} secs')"
      ],
      "execution_count": null,
      "outputs": [
        {
          "output_type": "stream",
          "text": [
            "WARNING:tensorflow:From /usr/local/lib/python3.7/dist-packages/tensorflow_federated/python/core/impl/compiler/tensorflow_computation_transformations.py:60: extract_sub_graph (from tensorflow.python.framework.graph_util_impl) is deprecated and will be removed in a future version.\n",
            "Instructions for updating:\n",
            "Use `tf.compat.v1.graph_util.extract_sub_graph`\n"
          ],
          "name": "stdout"
        },
        {
          "output_type": "stream",
          "text": [
            "WARNING:tensorflow:From /usr/local/lib/python3.7/dist-packages/tensorflow_federated/python/core/impl/compiler/tensorflow_computation_transformations.py:60: extract_sub_graph (from tensorflow.python.framework.graph_util_impl) is deprecated and will be removed in a future version.\n",
            "Instructions for updating:\n",
            "Use `tf.compat.v1.graph_util.extract_sub_graph`\n"
          ],
          "name": "stderr"
        },
        {
          "output_type": "stream",
          "text": [
            "Round 1 training loss: 1.5062099695205688 sparse_categorical_accuracy: 0.548799991607666, time: 26 secs\n",
            "Round 2 training loss: 0.42473000288009644 sparse_categorical_accuracy: 0.8712700009346008, time: 24 secs\n",
            "Round 3 training loss: 0.22520999610424042 sparse_categorical_accuracy: 0.9317299723625183, time: 23 secs\n",
            "Round 4 training loss: 0.16651000082492828 sparse_categorical_accuracy: 0.953000009059906, time: 23 secs\n",
            "Round 5 training loss: 0.1392900049686432 sparse_categorical_accuracy: 0.9607300162315369, time: 22 secs\n",
            "Round 6 training loss: 0.10806000232696533 sparse_categorical_accuracy: 0.9684699773788452, time: 22 secs\n",
            "Round 7 training loss: 0.10696999728679657 sparse_categorical_accuracy: 0.9670699834823608, time: 22 secs\n",
            "Round 8 training loss: 0.08603999763727188 sparse_categorical_accuracy: 0.9777299761772156, time: 22 secs\n",
            "Round 9 training loss: 0.098580002784729 sparse_categorical_accuracy: 0.9718700051307678, time: 22 secs\n",
            "Round 10 training loss: 0.07838000357151031 sparse_categorical_accuracy: 0.9764000177383423, time: 22 secs\n",
            "Round 11 training loss: 0.053289998322725296 sparse_categorical_accuracy: 0.9840700030326843, time: 22 secs\n",
            "Round 12 training loss: 0.05014000087976456 sparse_categorical_accuracy: 0.9860000014305115, time: 22 secs\n",
            "Round 13 training loss: 0.045820001512765884 sparse_categorical_accuracy: 0.988070011138916, time: 23 secs\n",
            "Round 14 training loss: 0.04295999929308891 sparse_categorical_accuracy: 0.9886699914932251, time: 23 secs\n",
            "Round 15 training loss: 0.03519999980926514 sparse_categorical_accuracy: 0.9908699989318848, time: 23 secs\n",
            "Round 16 training loss: 0.04634999856352806 sparse_categorical_accuracy: 0.9873999953269958, time: 24 secs\n",
            "Round 17 training loss: 0.05017999932169914 sparse_categorical_accuracy: 0.9858700037002563, time: 24 secs\n",
            "Round 18 training loss: 0.04385000094771385 sparse_categorical_accuracy: 0.9869999885559082, time: 24 secs\n",
            "Round 19 training loss: 0.03530000150203705 sparse_categorical_accuracy: 0.9908699989318848, time: 23 secs\n",
            "Round 20 training loss: 0.04324999824166298 sparse_categorical_accuracy: 0.988070011138916, time: 23 secs\n",
            "Round 21 training loss: 0.03288000077009201 sparse_categorical_accuracy: 0.9910699725151062, time: 23 secs\n",
            "Round 22 training loss: 0.041280001401901245 sparse_categorical_accuracy: 0.9887999892234802, time: 23 secs\n",
            "Round 23 training loss: 0.03142999857664108 sparse_categorical_accuracy: 0.9914000034332275, time: 23 secs\n",
            "Round 24 training loss: 0.03999000042676926 sparse_categorical_accuracy: 0.9888700246810913, time: 23 secs\n",
            "Round 25 training loss: 0.04115999862551689 sparse_categorical_accuracy: 0.989870011806488, time: 23 secs\n",
            "Round 26 training loss: 0.03765999898314476 sparse_categorical_accuracy: 0.9897300004959106, time: 23 secs\n",
            "Round 27 training loss: 0.030319999903440475 sparse_categorical_accuracy: 0.9925299882888794, time: 23 secs\n",
            "Round 28 training loss: 0.0370200015604496 sparse_categorical_accuracy: 0.991129994392395, time: 23 secs\n",
            "Round 29 training loss: 0.030820000916719437 sparse_categorical_accuracy: 0.9916700124740601, time: 23 secs\n",
            "Round 30 training loss: 0.02710999920964241 sparse_categorical_accuracy: 0.9926699995994568, time: 23 secs\n",
            "Round 31 training loss: 0.030789999291300774 sparse_categorical_accuracy: 0.9925299882888794, time: 22 secs\n",
            "Round 32 training loss: 0.031230000779032707 sparse_categorical_accuracy: 0.9918000102043152, time: 22 secs\n",
            "Round 33 training loss: 0.03610000014305115 sparse_categorical_accuracy: 0.9897300004959106, time: 22 secs\n",
            "Round 34 training loss: 0.03765999898314476 sparse_categorical_accuracy: 0.9906700253486633, time: 22 secs\n",
            "Round 35 training loss: 0.026100000366568565 sparse_categorical_accuracy: 0.9929999709129333, time: 22 secs\n",
            "Round 36 training loss: 0.03375000134110451 sparse_categorical_accuracy: 0.9902700185775757, time: 22 secs\n",
            "Round 37 training loss: 0.02249000035226345 sparse_categorical_accuracy: 0.9936000108718872, time: 22 secs\n",
            "Round 38 training loss: 0.027380000799894333 sparse_categorical_accuracy: 0.9925299882888794, time: 22 secs\n",
            "Round 39 training loss: 0.020190000534057617 sparse_categorical_accuracy: 0.9946699738502502, time: 22 secs\n",
            "Round 40 training loss: 0.031029999256134033 sparse_categorical_accuracy: 0.9922000169754028, time: 22 secs\n",
            "Round 41 training loss: 0.030339999124407768 sparse_categorical_accuracy: 0.9919300079345703, time: 22 secs\n",
            "Round 42 training loss: 0.01858999952673912 sparse_categorical_accuracy: 0.9951300024986267, time: 22 secs\n",
            "Round 43 training loss: 0.026170000433921814 sparse_categorical_accuracy: 0.9932000041007996, time: 22 secs\n",
            "Round 44 training loss: 0.020519999787211418 sparse_categorical_accuracy: 0.9944700002670288, time: 22 secs\n",
            "Round 45 training loss: 0.021479999646544456 sparse_categorical_accuracy: 0.9941999912261963, time: 22 secs\n",
            "Round 46 training loss: 0.023979999125003815 sparse_categorical_accuracy: 0.9942700266838074, time: 22 secs\n",
            "Round 47 training loss: 0.018810000270605087 sparse_categorical_accuracy: 0.9952700138092041, time: 22 secs\n",
            "Round 48 training loss: 0.026650000363588333 sparse_categorical_accuracy: 0.9927999973297119, time: 22 secs\n",
            "Round 49 training loss: 0.01955999992787838 sparse_categorical_accuracy: 0.9947299957275391, time: 22 secs\n",
            "Round 50 training loss: 0.0185100007802248 sparse_categorical_accuracy: 0.9944700002670288, time: 21 secs\n",
            "Round 51 training loss: 0.020349999889731407 sparse_categorical_accuracy: 0.9948700070381165, time: 21 secs\n",
            "Round 52 training loss: 0.013609999790787697 sparse_categorical_accuracy: 0.9961299896240234, time: 21 secs\n",
            "Round 53 training loss: 0.021159999072551727 sparse_categorical_accuracy: 0.9936699867248535, time: 21 secs\n",
            "Round 54 training loss: 0.018400000408291817 sparse_categorical_accuracy: 0.9952700138092041, time: 21 secs\n",
            "Round 55 training loss: 0.018120000138878822 sparse_categorical_accuracy: 0.9947299957275391, time: 21 secs\n",
            "Round 56 training loss: 0.017090000212192535 sparse_categorical_accuracy: 0.9955999851226807, time: 21 secs\n",
            "Round 57 training loss: 0.019780000671744347 sparse_categorical_accuracy: 0.9950699806213379, time: 21 secs\n",
            "Round 58 training loss: 0.01779000088572502 sparse_categorical_accuracy: 0.9956700205802917, time: 21 secs\n",
            "Round 59 training loss: 0.01157000008970499 sparse_categorical_accuracy: 0.9973300099372864, time: 21 secs\n",
            "Round 60 training loss: 0.010089999996125698 sparse_categorical_accuracy: 0.9974700212478638, time: 21 secs\n",
            "Round 61 training loss: 0.01761999912559986 sparse_categorical_accuracy: 0.9955300092697144, time: 21 secs\n",
            "Round 62 training loss: 0.01971999928355217 sparse_categorical_accuracy: 0.9947299957275391, time: 21 secs\n",
            "Round 63 training loss: 0.016100000590085983 sparse_categorical_accuracy: 0.9959999918937683, time: 21 secs\n",
            "Round 64 training loss: 0.028030000627040863 sparse_categorical_accuracy: 0.9926699995994568, time: 21 secs\n",
            "Round 65 training loss: 0.008899999782443047 sparse_categorical_accuracy: 0.9978700280189514, time: 21 secs\n",
            "Round 66 training loss: 0.015540000051259995 sparse_categorical_accuracy: 0.9965299963951111, time: 21 secs\n",
            "Round 67 training loss: 0.01768999919295311 sparse_categorical_accuracy: 0.995199978351593, time: 21 secs\n",
            "Round 68 training loss: 0.018079999834299088 sparse_categorical_accuracy: 0.9948700070381165, time: 21 secs\n",
            "Round 69 training loss: 0.01865999959409237 sparse_categorical_accuracy: 0.9955300092697144, time: 21 secs\n",
            "Round 70 training loss: 0.016429999843239784 sparse_categorical_accuracy: 0.9958699941635132, time: 21 secs\n",
            "Round 71 training loss: 0.01882999949157238 sparse_categorical_accuracy: 0.9947999715805054, time: 21 secs\n",
            "Round 72 training loss: 0.013989999890327454 sparse_categorical_accuracy: 0.9965299963951111, time: 21 secs\n",
            "Round 73 training loss: 0.01671000011265278 sparse_categorical_accuracy: 0.9954699873924255, time: 21 secs\n",
            "Round 74 training loss: 0.01425000000745058 sparse_categorical_accuracy: 0.9963300228118896, time: 21 secs\n",
            "Round 75 training loss: 0.01075000036507845 sparse_categorical_accuracy: 0.9973300099372864, time: 21 secs\n",
            "Round 76 training loss: 0.012930000200867653 sparse_categorical_accuracy: 0.9964699745178223, time: 21 secs\n",
            "Round 77 training loss: 0.011380000039935112 sparse_categorical_accuracy: 0.9973999857902527, time: 21 secs\n",
            "Round 78 training loss: 0.021150000393390656 sparse_categorical_accuracy: 0.9945999979972839, time: 21 secs\n",
            "Round 79 training loss: 0.020109999924898148 sparse_categorical_accuracy: 0.9947999715805054, time: 21 secs\n",
            "Round 80 training loss: 0.014059999957680702 sparse_categorical_accuracy: 0.9958699941635132, time: 21 secs\n",
            "Round 81 training loss: 0.011579999700188637 sparse_categorical_accuracy: 0.9965999722480774, time: 21 secs\n",
            "Round 82 training loss: 0.015809999778866768 sparse_categorical_accuracy: 0.9953299760818481, time: 21 secs\n",
            "Round 83 training loss: 0.011479999870061874 sparse_categorical_accuracy: 0.9970700144767761, time: 21 secs\n",
            "Round 84 training loss: 0.015949999913573265 sparse_categorical_accuracy: 0.9954699873924255, time: 21 secs\n",
            "Round 85 training loss: 0.012149999849498272 sparse_categorical_accuracy: 0.9968000054359436, time: 21 secs\n",
            "Round 86 training loss: 0.008340000174939632 sparse_categorical_accuracy: 0.9976699948310852, time: 21 secs\n",
            "Round 87 training loss: 0.011900000274181366 sparse_categorical_accuracy: 0.995930016040802, time: 22 secs\n",
            "Round 88 training loss: 0.014310000464320183 sparse_categorical_accuracy: 0.9960700273513794, time: 22 secs\n",
            "Round 89 training loss: 0.013150000013411045 sparse_categorical_accuracy: 0.9968000054359436, time: 22 secs\n",
            "Round 90 training loss: 0.013989999890327454 sparse_categorical_accuracy: 0.9962700009346008, time: 22 secs\n",
            "Round 91 training loss: 0.017500000074505806 sparse_categorical_accuracy: 0.9948700070381165, time: 22 secs\n",
            "Round 92 training loss: 0.011739999987185001 sparse_categorical_accuracy: 0.9968699812889099, time: 22 secs\n",
            "Round 93 training loss: 0.009770000353455544 sparse_categorical_accuracy: 0.9970700144767761, time: 22 secs\n",
            "Round 94 training loss: 0.013980000279843807 sparse_categorical_accuracy: 0.9962700009346008, time: 22 secs\n",
            "Round 95 training loss: 0.011380000039935112 sparse_categorical_accuracy: 0.9969300031661987, time: 22 secs\n",
            "Round 96 training loss: 0.010610000230371952 sparse_categorical_accuracy: 0.9973300099372864, time: 22 secs\n",
            "Round 97 training loss: 0.014419999904930592 sparse_categorical_accuracy: 0.9960700273513794, time: 22 secs\n",
            "Round 98 training loss: 0.008980000391602516 sparse_categorical_accuracy: 0.9975299835205078, time: 22 secs\n",
            "Round 99 training loss: 0.011119999922811985 sparse_categorical_accuracy: 0.9968699812889099, time: 22 secs\n",
            "Round 100 training loss: 0.012059999629855156 sparse_categorical_accuracy: 0.9963300228118896, time: 22 secs\n",
            "Round 101 training loss: 0.010590000078082085 sparse_categorical_accuracy: 0.9972000122070312, time: 22 secs\n",
            "Round 102 training loss: 0.01209999993443489 sparse_categorical_accuracy: 0.9965299963951111, time: 22 secs\n",
            "Round 103 training loss: 0.012470000423491001 sparse_categorical_accuracy: 0.9967300295829773, time: 22 secs\n",
            "Round 104 training loss: 0.014059999957680702 sparse_categorical_accuracy: 0.9964699745178223, time: 22 secs\n",
            "Round 105 training loss: 0.010710000060498714 sparse_categorical_accuracy: 0.9968699812889099, time: 22 secs\n",
            "Round 106 training loss: 0.011780000291764736 sparse_categorical_accuracy: 0.9963300228118896, time: 22 secs\n",
            "Round 107 training loss: 0.009829999879002571 sparse_categorical_accuracy: 0.9973999857902527, time: 22 secs\n",
            "Round 108 training loss: 0.012280000373721123 sparse_categorical_accuracy: 0.996399998664856, time: 22 secs\n",
            "Round 109 training loss: 0.008329999633133411 sparse_categorical_accuracy: 0.9977999925613403, time: 22 secs\n",
            "Round 110 training loss: 0.013700000010430813 sparse_categorical_accuracy: 0.9958699941635132, time: 22 secs\n",
            "Round 111 training loss: 0.01322999969124794 sparse_categorical_accuracy: 0.9958000183105469, time: 22 secs\n",
            "Round 112 training loss: 0.008209999650716782 sparse_categorical_accuracy: 0.9978700280189514, time: 22 secs\n",
            "Round 113 training loss: 0.008349999785423279 sparse_categorical_accuracy: 0.9978700280189514, time: 22 secs\n",
            "Round 114 training loss: 0.01436999998986721 sparse_categorical_accuracy: 0.9962000250816345, time: 22 secs\n",
            "Round 115 training loss: 0.010540000163018703 sparse_categorical_accuracy: 0.9971299767494202, time: 22 secs\n",
            "Round 116 training loss: 0.011090000160038471 sparse_categorical_accuracy: 0.9971299767494202, time: 22 secs\n",
            "Round 117 training loss: 0.012740000151097775 sparse_categorical_accuracy: 0.9968699812889099, time: 22 secs\n",
            "Round 118 training loss: 0.012260000221431255 sparse_categorical_accuracy: 0.996399998664856, time: 22 secs\n",
            "Round 119 training loss: 0.007470000069588423 sparse_categorical_accuracy: 0.998199999332428, time: 21 secs\n",
            "Round 120 training loss: 0.012919999659061432 sparse_categorical_accuracy: 0.9960700273513794, time: 21 secs\n",
            "Round 121 training loss: 0.009870000183582306 sparse_categorical_accuracy: 0.9968000054359436, time: 21 secs\n",
            "Round 122 training loss: 0.009739999659359455 sparse_categorical_accuracy: 0.9974700212478638, time: 21 secs\n",
            "Round 123 training loss: 0.009379999712109566 sparse_categorical_accuracy: 0.9973999857902527, time: 21 secs\n",
            "Round 124 training loss: 0.008860000409185886 sparse_categorical_accuracy: 0.9972699880599976, time: 21 secs\n",
            "Round 125 training loss: 0.008299999870359898 sparse_categorical_accuracy: 0.9979299902915955, time: 21 secs\n",
            "Round 126 training loss: 0.010739999823272228 sparse_categorical_accuracy: 0.9968000054359436, time: 21 secs\n",
            "Round 127 training loss: 0.010200000368058681 sparse_categorical_accuracy: 0.9968000054359436, time: 21 secs\n",
            "Round 128 training loss: 0.00887999963015318 sparse_categorical_accuracy: 0.9973300099372864, time: 21 secs\n",
            "Round 129 training loss: 0.008550000376999378 sparse_categorical_accuracy: 0.998199999332428, time: 21 secs\n",
            "Round 130 training loss: 0.00749000022187829 sparse_categorical_accuracy: 0.9980700016021729, time: 21 secs\n",
            "Round 131 training loss: 0.00848000030964613 sparse_categorical_accuracy: 0.9971299767494202, time: 21 secs\n",
            "Round 132 training loss: 0.01051000040024519 sparse_categorical_accuracy: 0.9968699812889099, time: 21 secs\n",
            "Round 133 training loss: 0.014379999600350857 sparse_categorical_accuracy: 0.9962700009346008, time: 21 secs\n",
            "Round 134 training loss: 0.011590000241994858 sparse_categorical_accuracy: 0.9963300228118896, time: 21 secs\n",
            "Round 135 training loss: 0.009820000268518925 sparse_categorical_accuracy: 0.9973999857902527, time: 21 secs\n",
            "Round 136 training loss: 0.011620000004768372 sparse_categorical_accuracy: 0.996999979019165, time: 21 secs\n",
            "Round 137 training loss: 0.01370999962091446 sparse_categorical_accuracy: 0.9962000250816345, time: 21 secs\n",
            "Round 138 training loss: 0.0065899998880922794 sparse_categorical_accuracy: 0.9979299902915955, time: 21 secs\n",
            "Round 139 training loss: 0.009429999627172947 sparse_categorical_accuracy: 0.9972699880599976, time: 21 secs\n",
            "Round 140 training loss: 0.015329999849200249 sparse_categorical_accuracy: 0.9961299896240234, time: 21 secs\n",
            "Round 141 training loss: 0.008100000210106373 sparse_categorical_accuracy: 0.9981300234794617, time: 21 secs\n",
            "Round 142 training loss: 0.008670000359416008 sparse_categorical_accuracy: 0.9979299902915955, time: 21 secs\n",
            "Round 143 training loss: 0.00698000006377697 sparse_categorical_accuracy: 0.9980700016021729, time: 21 secs\n",
            "Round 144 training loss: 0.008310000412166119 sparse_categorical_accuracy: 0.9976699948310852, time: 21 secs\n",
            "Round 145 training loss: 0.006730000022798777 sparse_categorical_accuracy: 0.998199999332428, time: 21 secs\n",
            "Round 146 training loss: 0.009349999949336052 sparse_categorical_accuracy: 0.9976000189781189, time: 21 secs\n",
            "Round 147 training loss: 0.01063000038266182 sparse_categorical_accuracy: 0.9967300295829773, time: 21 secs\n",
            "Round 148 training loss: 0.008620000444352627 sparse_categorical_accuracy: 0.9974700212478638, time: 21 secs\n",
            "Round 149 training loss: 0.006539999973028898 sparse_categorical_accuracy: 0.9979299902915955, time: 21 secs\n",
            "Round 150 training loss: 0.008899999782443047 sparse_categorical_accuracy: 0.9976000189781189, time: 21 secs\n",
            "Round 151 training loss: 0.005849999841302633 sparse_categorical_accuracy: 0.9982699751853943, time: 21 secs\n",
            "Round 152 training loss: 0.007780000101774931 sparse_categorical_accuracy: 0.9975299835205078, time: 21 secs\n",
            "Round 153 training loss: 0.007540000136941671 sparse_categorical_accuracy: 0.9977999925613403, time: 21 secs\n",
            "Round 154 training loss: 0.007160000037401915 sparse_categorical_accuracy: 0.997730016708374, time: 21 secs\n",
            "Round 155 training loss: 0.005929999984800816 sparse_categorical_accuracy: 0.998199999332428, time: 21 secs\n",
            "Round 156 training loss: 0.011269999668002129 sparse_categorical_accuracy: 0.996999979019165, time: 21 secs\n",
            "Round 157 training loss: 0.009200000204145908 sparse_categorical_accuracy: 0.9972699880599976, time: 21 secs\n",
            "Round 158 training loss: 0.004910000134259462 sparse_categorical_accuracy: 0.9983999729156494, time: 21 secs\n",
            "Round 159 training loss: 0.008009999990463257 sparse_categorical_accuracy: 0.997730016708374, time: 21 secs\n",
            "Round 160 training loss: 0.010320000350475311 sparse_categorical_accuracy: 0.9975299835205078, time: 21 secs\n",
            "Round 161 training loss: 0.006289999932050705 sparse_categorical_accuracy: 0.9978700280189514, time: 21 secs\n",
            "Round 162 training loss: 0.00750999990850687 sparse_categorical_accuracy: 0.9979299902915955, time: 21 secs\n",
            "Round 163 training loss: 0.011749999597668648 sparse_categorical_accuracy: 0.9968000054359436, time: 21 secs\n",
            "Round 164 training loss: 0.007770000025629997 sparse_categorical_accuracy: 0.9982699751853943, time: 21 secs\n",
            "Round 165 training loss: 0.004360000137239695 sparse_categorical_accuracy: 0.9987999796867371, time: 21 secs\n",
            "Round 166 training loss: 0.006719999946653843 sparse_categorical_accuracy: 0.998199999332428, time: 21 secs\n",
            "Round 167 training loss: 0.007780000101774931 sparse_categorical_accuracy: 0.9977999925613403, time: 21 secs\n",
            "Round 168 training loss: 0.009259999729692936 sparse_categorical_accuracy: 0.9972000122070312, time: 21 secs\n",
            "Round 169 training loss: 0.007980000227689743 sparse_categorical_accuracy: 0.9976000189781189, time: 21 secs\n",
            "Round 170 training loss: 0.01090999972075224 sparse_categorical_accuracy: 0.9972000122070312, time: 21 secs\n",
            "Round 171 training loss: 0.009800000116229057 sparse_categorical_accuracy: 0.9973999857902527, time: 21 secs\n",
            "Round 172 training loss: 0.0038900000508874655 sparse_categorical_accuracy: 0.9990699887275696, time: 21 secs\n",
            "Round 173 training loss: 0.00646999990567565 sparse_categorical_accuracy: 0.9981300234794617, time: 21 secs\n",
            "Round 174 training loss: 0.005109999794512987 sparse_categorical_accuracy: 0.9982699751853943, time: 21 secs\n",
            "Round 175 training loss: 0.007319999858736992 sparse_categorical_accuracy: 0.9980700016021729, time: 21 secs\n",
            "Round 176 training loss: 0.005630000028759241 sparse_categorical_accuracy: 0.9980700016021729, time: 21 secs\n",
            "Round 177 training loss: 0.009700000286102295 sparse_categorical_accuracy: 0.9973300099372864, time: 21 secs\n",
            "Round 178 training loss: 0.0101500004529953 sparse_categorical_accuracy: 0.9973300099372864, time: 21 secs\n",
            "Round 179 training loss: 0.009379999712109566 sparse_categorical_accuracy: 0.9974700212478638, time: 21 secs\n",
            "Round 180 training loss: 0.006659999955445528 sparse_categorical_accuracy: 0.9981300234794617, time: 21 secs\n",
            "Round 181 training loss: 0.008709999732673168 sparse_categorical_accuracy: 0.9972000122070312, time: 21 secs\n",
            "Round 182 training loss: 0.007290000095963478 sparse_categorical_accuracy: 0.9980700016021729, time: 21 secs\n",
            "Round 183 training loss: 0.0069599999114871025 sparse_categorical_accuracy: 0.997730016708374, time: 21 secs\n",
            "Round 184 training loss: 0.006730000022798777 sparse_categorical_accuracy: 0.9981300234794617, time: 21 secs\n",
            "Round 185 training loss: 0.005890000145882368 sparse_categorical_accuracy: 0.9982699751853943, time: 21 secs\n",
            "Round 186 training loss: 0.005530000198632479 sparse_categorical_accuracy: 0.9984700083732605, time: 21 secs\n",
            "Round 187 training loss: 0.008229999803006649 sparse_categorical_accuracy: 0.9976699948310852, time: 21 secs\n",
            "Round 188 training loss: 0.008609999902546406 sparse_categorical_accuracy: 0.9978700280189514, time: 21 secs\n",
            "Round 189 training loss: 0.011920000426471233 sparse_categorical_accuracy: 0.9959999918937683, time: 21 secs\n",
            "Round 190 training loss: 0.005840000230818987 sparse_categorical_accuracy: 0.9984700083732605, time: 21 secs\n",
            "Round 191 training loss: 0.006930000148713589 sparse_categorical_accuracy: 0.9981300234794617, time: 21 secs\n",
            "Round 192 training loss: 0.005890000145882368 sparse_categorical_accuracy: 0.9982699751853943, time: 21 secs\n",
            "Round 193 training loss: 0.007209999952465296 sparse_categorical_accuracy: 0.9975299835205078, time: 21 secs\n",
            "Round 194 training loss: 0.005900000222027302 sparse_categorical_accuracy: 0.9983299970626831, time: 21 secs\n",
            "Round 195 training loss: 0.005289999768137932 sparse_categorical_accuracy: 0.9983299970626831, time: 21 secs\n",
            "Round 196 training loss: 0.01056000031530857 sparse_categorical_accuracy: 0.9973300099372864, time: 21 secs\n",
            "Round 197 training loss: 0.00800000037997961 sparse_categorical_accuracy: 0.9976699948310852, time: 21 secs\n",
            "Round 198 training loss: 0.009890000335872173 sparse_categorical_accuracy: 0.9973999857902527, time: 21 secs\n",
            "Round 199 training loss: 0.008840000256896019 sparse_categorical_accuracy: 0.9975299835205078, time: 21 secs\n"
          ],
          "name": "stdout"
        }
      ]
    },
    {
      "cell_type": "code",
      "metadata": {
        "id": "IiuJr6jtk3QE"
      },
      "source": [
        "def make_federated_data(client_data, client_ids):\n",
        "  return [\n",
        "      preprocess(client_data.create_tf_dataset_for_client(x))\n",
        "      for x in client_ids\n",
        "  ]"
      ],
      "execution_count": null,
      "outputs": []
    },
    {
      "cell_type": "code",
      "metadata": {
        "colab": {
          "base_uri": "https://localhost:8080/",
          "height": 314
        },
        "id": "G5acY_QxXrBm",
        "outputId": "d2474d57-a1d0-45b8-d6dc-094d074f8bac"
      },
      "source": [
        "import seaborn as sns\n",
        "import matplotlib.pyplot as plt\n",
        "\n",
        "sampled_clients = np.random.choice(\n",
        "  emnist_train.client_ids,\n",
        "  size=CLIENTS_PER_ROUND,\n",
        "  replace=False)\n",
        "# build train data for selected clients\n",
        "\n",
        "evaluation = tff.learning.build_federated_evaluation(model_fn)\n",
        "federated_train_data= make_federated_data(emnist_train, sampled_clients)\n",
        "train_metrics = evaluation(state.model, federated_train_data)\n",
        "print(str(train_metrics))\n",
        "# federated_test_data = make_federated_data(emnist_test, sampled_clients)\n",
        "# test_metrics = evaluation(state.model, federated_test_data)\n",
        "\n",
        "plt.xlabel('Epoch')\n",
        "plt.ylabel('Accuracy')\n",
        "plt.plot(rounds,acc,label='Epoch')\n",
        "# plt.legend(loc='lower right')\n",
        "plt.show()\n",
        " \n",
        "# test_loss, test_acc = model.evaluate(test_images, test_labels, verbose=2)\n",
        "\n",
        "str(train_metrics)"
      ],
      "execution_count": null,
      "outputs": [
        {
          "output_type": "stream",
          "text": [
            "OrderedDict([('eval', OrderedDict([('sparse_categorical_accuracy', 0.994), ('loss', 0.018559812)])), ('stat', OrderedDict([('num_examples', 15000)]))])\n"
          ],
          "name": "stdout"
        },
        {
          "output_type": "display_data",
          "data": {
            "image/png": "[encoded data removed]",
            "text/plain": [
              "<Figure size 432x288 with 1 Axes>"
            ]
          },
          "metadata": {
            "needs_background": "light"
          }
        },
        {
          "output_type": "execute_result",
          "data": {
            "application/vnd.google.colaboratory.intrinsic+json": {
              "type": "string"
            },
            "text/plain": [
              "\"OrderedDict([('eval', OrderedDict([('sparse_categorical_accuracy', 0.994), ('loss', 0.018559812)])), ('stat', OrderedDict([('num_examples', 15000)]))])\""
            ]
          },
          "metadata": {},
          "execution_count": 8
        }
      ]
    },
    {
      "cell_type": "code",
      "metadata": {
        "id": "yp1rsXyWk4qL"
      },
      "source": [
        ""
      ],
      "execution_count": null,
      "outputs": []
    }
  ]
}